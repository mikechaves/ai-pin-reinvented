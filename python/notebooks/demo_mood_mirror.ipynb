{
 "cells": [
  {
   "cell_type": "markdown",
   "id": "1401bea4",
   "metadata": {},
   "source": [
    "# Mood-Mirror Coach demo\n",
    "This notebook calls the local Node API to analyze vocal stress from an audio sample."
   ]
  },
  {
   "cell_type": "code",
   "execution_count": 1,
   "id": "3cebba9c",
   "metadata": {},
   "outputs": [
    {
     "data": {
      "text/plain": [
       "{'stress_level': 'low', 'suggestion': \"You're sounding relaxed. Keep it up!\"}"
      ]
     },
     "execution_count": 1,
     "metadata": {},
     "output_type": "execute_result"
    }
   ],
   "source": [
    "import requests, json\n",
    "r = requests.get(\"http://localhost:3000/mood\", params={\"file\":\"sample.wav\"})\n",
    "r.json()"
   ]
  }
 ],
 "metadata": {
  "kernelspec": {
   "display_name": "Python 3",
   "language": "python",
   "name": "python3"
  },
  "language_info": {
   "name": "python"
  }
 },
 "nbformat": 4,
 "nbformat_minor": 5
}